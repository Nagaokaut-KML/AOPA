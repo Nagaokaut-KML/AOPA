{
 "cells": [
  {
   "cell_type": "code",
   "execution_count": 1,
   "metadata": {},
   "outputs": [],
   "source": [
    "from sklearn.metrics import precision_score\n",
    "from sklearn.metrics import recall_score\n",
    "from sklearn.metrics import f1_score\n",
    "from sklearn.metrics import accuracy_score\n",
    "from sklearn.metrics import confusion_matrix\n",
    "import pandas as pd\n",
    "import numpy as np\n",
    "import csv\n",
    "import json\n",
    "import collections as cl\n",
    "from tqdm import tqdm\n",
    "import matplotlib.pyplot as plt\n",
    "from collections import Counter"
   ]
  },
  {
   "cell_type": "code",
   "execution_count": 2,
   "metadata": {},
   "outputs": [],
   "source": [
    "pred_train_origin = np.loadtxt('../result/result_0903.csv', delimiter=',')\n",
    "pred_val_origin = np.loadtxt('../result/result_0904.csv', delimiter=',')\n",
    "pred_test_origin = np.loadtxt('../result/result_0915.csv', delimiter=',')\n",
    "grand_03 = pd.read_csv('../data/0903formated_label.csv', delimiter=',')\n",
    "grand_04 = pd.read_csv('../data/0904formated_label.csv', delimiter=',')\n",
    "grand_15 = pd.read_csv('../data/0915formated_label.csv', delimiter=',')"
   ]
  },
  {
   "cell_type": "code",
   "execution_count": 3,
   "metadata": {},
   "outputs": [],
   "source": [
    "def format_time(date):\n",
    "    return int(str(date)[:-6]), str(int(str(date)[-6:-4]))+ ':' +str(int(str(date)[-4:-2])) + ':' + str(int(str(date)[-2:]))\n",
    "\n",
    "\n",
    "def format_data(pred_origin):\n",
    "    pred_dict = {}\n",
    "    pred_list = []\n",
    "    count = 0\n",
    "    for index ,row in enumerate(tqdm(pred_origin)):\n",
    "        pred_dict.setdefault(row[0], [])\n",
    "        pred_dict[row[0]].append(row[1])\n",
    "        \n",
    "    \n",
    "    for key in tqdm(pred_dict):\n",
    "        most_count = Counter(pred_dict[key])\n",
    "        \n",
    "#         print(most_count)\n",
    "        result = most_count.most_common(1)\n",
    "        pred_list.append([key, int(result[0][0])])\n",
    "        \n",
    "    return pred_list\n",
    "\n",
    "def format_grand(pred_origin):\n",
    "    label_dict = {1:0, 2:1, 3:2, 4:3, 5:4, 6:5, 7:6, 8:7, 9:8, 11:9, 12:10, 13:11}\n",
    "    grand_list = []\n",
    "    pred_list = []\n",
    "    count = 0\n",
    "    label = 0\n",
    "    for index ,row in enumerate(tqdm(pred_origin)):\n",
    "        day ,target_time = format_time(int(row[0]))\n",
    "        try:\n",
    "            if day == 3:\n",
    "                grand = grand_03[grand_03.time == target_time]\n",
    "            elif day == 4:\n",
    "                grand = grand_04[grand_04.time == target_time]\n",
    "            else:\n",
    "                grand = grand_15[grand_15.time == target_time]\n",
    "            label = int(grand.values[0][1])\n",
    "        except:\n",
    "            count += 1\n",
    "        \n",
    "        grand_list.append(label_dict[label])\n",
    "        pred_list.append(int(row[1]))\n",
    "        \n",
    "    return grand_list, pred_list"
   ]
  },
  {
   "cell_type": "code",
   "execution_count": 4,
   "metadata": {},
   "outputs": [
    {
     "data": {
      "text/plain": [
       "array([3.075345e+06, 1.100000e+01])"
      ]
     },
     "execution_count": 4,
     "metadata": {},
     "output_type": "execute_result"
    }
   ],
   "source": [
    "pred_train_origin[0]"
   ]
  },
  {
   "cell_type": "code",
   "execution_count": 5,
   "metadata": {},
   "outputs": [
    {
     "name": "stderr",
     "output_type": "stream",
     "text": [
      "100%|██████████| 367400/367400 [00:01<00:00, 223191.59it/s]\n",
      "100%|██████████| 43763/43763 [00:00<00:00, 63553.10it/s]\n",
      "100%|██████████| 99400/99400 [00:00<00:00, 159654.33it/s]\n",
      "100%|██████████| 12172/12172 [00:00<00:00, 53752.18it/s]\n",
      "100%|██████████| 218000/218000 [00:01<00:00, 191503.52it/s]\n",
      "100%|██████████| 26736/26736 [00:00<00:00, 59083.76it/s]\n"
     ]
    }
   ],
   "source": [
    "pred_train_list = format_data( pred_train_origin)\n",
    "pred_val_list = format_data(pred_val_origin)\n",
    "pred_test_list = format_data(pred_test_origin)"
   ]
  },
  {
   "cell_type": "code",
   "execution_count": 6,
   "metadata": {},
   "outputs": [
    {
     "name": "stderr",
     "output_type": "stream",
     "text": [
      "100%|██████████| 43763/43763 [03:18<00:00, 220.66it/s]\n",
      "100%|██████████| 12172/12172 [00:54<00:00, 224.99it/s]\n",
      "100%|██████████| 26736/26736 [02:03<00:00, 215.68it/s]\n"
     ]
    }
   ],
   "source": [
    "grand_train, pred_train = format_grand( pred_train_list)\n",
    "grand_val, pred_val = format_grand( pred_val_list)\n",
    "grand_test, pred_test = format_grand( pred_test_list)"
   ]
  },
  {
   "cell_type": "code",
   "execution_count": 7,
   "metadata": {},
   "outputs": [],
   "source": [
    "np.savetxt('../result/format_grad_train.csv',grand_train,delimiter=',')\n",
    "np.savetxt('../result/format_pred_train.csv',pred_train,delimiter=',')\n",
    "np.savetxt('../result/format_grad_val.csv',grand_val,delimiter=',')\n",
    "np.savetxt('../result/format_pred_val.csv',pred_val,delimiter=',')\n",
    "np.savetxt('../result/format_grad_test.csv',grand_test,delimiter=',')\n",
    "np.savetxt('../result/format_pred_test.csv',pred_test,delimiter=',')"
   ]
  },
  {
   "cell_type": "code",
   "execution_count": 8,
   "metadata": {},
   "outputs": [],
   "source": [
    "grand_train = np.loadtxt('../result/format_grad_train.csv',delimiter=',')\n",
    "pred_train = np.loadtxt('../result/format_pred_train.csv',delimiter=',')\n",
    "grand_val = np.loadtxt('../result/format_grad_val.csv',delimiter=',')\n",
    "pred_val = np.loadtxt('../result/format_pred_val.csv',delimiter=',')\n",
    "grand_test = np.loadtxt('../result/format_grad_test.csv',delimiter=',')\n",
    "pred_test = np.loadtxt('../result/format_pred_test.csv',delimiter=',')"
   ]
  },
  {
   "cell_type": "code",
   "execution_count": 17,
   "metadata": {},
   "outputs": [],
   "source": [
    "train_mat = confusion_matrix(grand_train, pred_train)\n",
    "val_mat = confusion_matrix(grand_val, pred_val)\n",
    "test_mat = confusion_matrix(grand_test, pred_test)"
   ]
  },
  {
   "cell_type": "code",
   "execution_count": 54,
   "metadata": {
    "collapsed": true,
    "jupyter": {
     "outputs_hidden": true
    }
   },
   "outputs": [
    {
     "data": {
      "text/plain": [
       "array([[ 7725,   542,  1297,   358,    30,   266,   641,  1343,   436,\n",
       "          461,  1034,   395],\n",
       "       [ 1922,  9884,  2023,   261,    77,   231,   163,   405,    29,\n",
       "           66,   369,    98],\n",
       "       [ 2043,   207, 24118,   287,    23,    23,  3305,   265,  1063,\n",
       "          392,   191,    59],\n",
       "       [ 1222,    97,   173, 17514,     7,    25,    74,    11,   454,\n",
       "            6,   646,   659],\n",
       "       [ 1268,   107,   818,    54,  5199,   567,  1858,   372,     0,\n",
       "            0,  1285,     0],\n",
       "       [  402,   102,   424,    68,   499,  6334,   940,  2704,    32,\n",
       "            0,   388,    89],\n",
       "       [  172,     2,    87,   111,    98,   133,  5154,  1657,     5,\n",
       "            0,    73,    12],\n",
       "       [ 3441,  2206,   298,    47,   154,  3456,  1881,  9228,    88,\n",
       "            0,   834,   125],\n",
       "       [  203,     0,    19,    33,     0,    14,  2250,   120,  3051,\n",
       "            0,   862,    24],\n",
       "       [  580,    83,   411,    30,     0,     0,     0,     0,     0,\n",
       "          646,     0,   130],\n",
       "       [ 3346,    48,    30,  1154,    99,    82,   247,   447,  1837,\n",
       "            0, 14452,   162],\n",
       "       [ 1190,   134,  1162,   393,     0,    37,    30,   564,    27,\n",
       "           21,    95, 48295]])"
      ]
     },
     "execution_count": 54,
     "metadata": {},
     "output_type": "execute_result"
    }
   ],
   "source": [
    "test_mat"
   ]
  },
  {
   "cell_type": "code",
   "execution_count": 19,
   "metadata": {},
   "outputs": [
    {
     "data": {
      "text/plain": [
       "array([0., 0., 0., 0., 0., 0., 0., 0., 0., 0.])"
      ]
     },
     "execution_count": 19,
     "metadata": {},
     "output_type": "execute_result"
    }
   ],
   "source": [
    "grand_train[:10]"
   ]
  },
  {
   "cell_type": "markdown",
   "metadata": {},
   "source": []
  },
  {
   "cell_type": "code",
   "execution_count": 9,
   "metadata": {},
   "outputs": [
    {
     "name": "stdout",
     "output_type": "stream",
     "text": [
      "0.909238397733245\n",
      "0.7140157739073283\n",
      "0.711811789347696\n"
     ]
    }
   ],
   "source": [
    "print(accuracy_score(grand_train, pred_train))\n",
    "print(accuracy_score(grand_val, pred_val))\n",
    "print(accuracy_score(grand_test, pred_test))"
   ]
  },
  {
   "cell_type": "code",
   "execution_count": 10,
   "metadata": {},
   "outputs": [
    {
     "name": "stdout",
     "output_type": "stream",
     "text": [
      "0.892518951191939\n",
      "0.6084069855839578\n",
      "0.6395805129211258\n",
      "[0.81061023 0.9541907  0.9741133  0.94298451 0.96860465 0.80479252\n",
      " 0.87697023 0.89889159 0.80952381 0.88461538 0.82150364 0.96342685]\n",
      "[0.36138924 0.65695793 0.36       0.92123894 0.52631579 0.86075949\n",
      " 0.53139357 0.66013825 0.         0.60465116 0.84584585 0.97219361]\n",
      "[0.35203891 0.75291232 0.79243827 0.88209256 0.85786164 0.58679525\n",
      " 0.31848659 0.5573694  0.43309859 0.44148936 0.73177843 0.96860484]\n"
     ]
    },
    {
     "name": "stderr",
     "output_type": "stream",
     "text": [
      "/usr/local/lib/python3.6/dist-packages/sklearn/metrics/_classification.py:1272: UndefinedMetricWarning: Precision is ill-defined and being set to 0.0 in labels with no predicted samples. Use `zero_division` parameter to control this behavior.\n",
      "  _warn_prf(average, modifier, msg_start, len(result))\n"
     ]
    }
   ],
   "source": [
    "print(precision_score(grand_train, pred_train, average='macro'))\n",
    "print(precision_score(grand_val, pred_val, average='macro'))\n",
    "print(precision_score(grand_test, pred_test, average='macro'))\n",
    "print(precision_score(grand_train, pred_train, average=None))\n",
    "print(precision_score(grand_val, pred_val, average=None))\n",
    "print(precision_score(grand_test, pred_test, average=None))"
   ]
  },
  {
   "cell_type": "code",
   "execution_count": 11,
   "metadata": {},
   "outputs": [
    {
     "name": "stdout",
     "output_type": "stream",
     "text": [
      "0.8688664539810215\n",
      "0.5664495664339663\n",
      "0.6211726366460467\n",
      "[0.83023649 0.77401596 0.96938776 0.92200046 0.91588785 0.83555825\n",
      " 0.9452572  0.87569134 0.81652257 0.63888889 0.93075655 0.97219414]\n",
      "[0.83393502 0.52051282 0.57446809 0.88974359 0.15503876 0.83435583\n",
      " 0.88974359 0.29460154 0.         0.25742574 0.74416557 0.80340426]\n",
      "[0.54582367 0.65249734 0.77862017 0.86333202 0.47960619 0.53087248\n",
      " 0.72047671 0.44341373 0.46590909 0.36563877 0.6749904  0.93289108]\n"
     ]
    }
   ],
   "source": [
    "print(recall_score(grand_train, pred_train, average='macro'))\n",
    "print(recall_score(grand_val, pred_val, average='macro'))\n",
    "print(recall_score(grand_test, pred_test, average='macro'))\n",
    "print(recall_score(grand_train, pred_train, average=None))\n",
    "print(recall_score(grand_val, pred_val, average=None))\n",
    "print(recall_score(grand_test, pred_test, average=None))"
   ]
  },
  {
   "cell_type": "code",
   "execution_count": 12,
   "metadata": {},
   "outputs": [
    {
     "name": "stdout",
     "output_type": "stream",
     "text": [
      "0.8777470523869951\n",
      "0.5521020239038038\n",
      "0.6162558777087978\n",
      "[0.82030598 0.85471125 0.97174478 0.93237443 0.9415089  0.81988687\n",
      " 0.9098342  0.88713981 0.81300813 0.74193548 0.87272415 0.96779064]\n",
      "[0.50425671 0.58082976 0.44262295 0.90521739 0.23952096 0.84735202\n",
      " 0.6653883  0.40739424 0.         0.36111111 0.79175451 0.87977633]\n",
      "[0.4280191  0.69911756 0.78546845 0.87261146 0.61524583 0.55743481\n",
      " 0.44171372 0.4939037  0.44890511 0.4        0.70223821 0.95041257]\n"
     ]
    }
   ],
   "source": [
    "print(f1_score(grand_train, pred_train, average='macro'))\n",
    "print(f1_score(grand_val, pred_val, average='macro'))\n",
    "print(f1_score(grand_test, pred_test, average='macro'))\n",
    "print(f1_score(grand_train, pred_train, average=None))\n",
    "print(f1_score(grand_val, pred_val, average=None))\n",
    "print(f1_score(grand_test, pred_test, average=None))"
   ]
  },
  {
   "cell_type": "code",
   "execution_count": 27,
   "metadata": {},
   "outputs": [],
   "source": [
    "def draw_heatmap(x, y):\n",
    "    heatmap, xedges, yedges = np.histogram2d(x, y, bins=50)\n",
    "    extent = [xedges[0], xedges[-1], yedges[0], yedges[-1]]\n",
    "\n",
    "    plt.figure()\n",
    "    plt.imshow(heatmap, extent=extent)\n",
    "    plt.show()\n",
    "    plt.savefig('image.png')"
   ]
  },
  {
   "cell_type": "code",
   "execution_count": 30,
   "metadata": {},
   "outputs": [
    {
     "data": {
      "image/png": "[encoded data removed]",
      "text/plain": [
       "<Figure size 432x288 with 1 Axes>"
      ]
     },
     "metadata": {
      "needs_background": "light"
     },
     "output_type": "display_data"
    },
    {
     "data": {
      "text/plain": [
       "<Figure size 432x288 with 0 Axes>"
      ]
     },
     "metadata": {},
     "output_type": "display_data"
    }
   ],
   "source": [
    "draw_heatmap(grand_test,pred_test)"
   ]
  },
  {
   "cell_type": "code",
   "execution_count": 13,
   "metadata": {},
   "outputs": [
    {
     "name": "stderr",
     "output_type": "stream",
     "text": [
      "/usr/local/lib/python3.6/dist-packages/ipykernel_launcher.py:1: MatplotlibDeprecationWarning: The 'normed' parameter of hist2d() has been renamed 'density' since Matplotlib 3.1; support for the old name will be dropped in 3.3.\n",
      "  \"\"\"Entry point for launching an IPython kernel.\n",
      "/usr/local/lib/python3.6/dist-packages/ipykernel_launcher.py:15: MatplotlibDeprecationWarning: The 'normed' parameter of hist2d() has been renamed 'density' since Matplotlib 3.1; support for the old name will be dropped in 3.3.\n",
      "  from ipykernel import kernelapp as app\n",
      "/usr/local/lib/python3.6/dist-packages/ipykernel_launcher.py:28: MatplotlibDeprecationWarning: The 'normed' parameter of hist2d() has been renamed 'density' since Matplotlib 3.1; support for the old name will be dropped in 3.3.\n"
     ]
    },
    {
     "data": {
      "text/plain": [
       "<Figure size 432x288 with 0 Axes>"
      ]
     },
     "execution_count": 13,
     "metadata": {},
     "output_type": "execute_result"
    },
    {
     "data": {
      "image/png": "[encoded data removed]",
      "text/plain": [
       "<Figure size 432x288 with 2 Axes>"
      ]
     },
     "metadata": {
      "needs_background": "light"
     },
     "output_type": "display_data"
    },
    {
     "data": {
      "image/png": "[encoded data removed]",
      "text/plain": [
       "<Figure size 432x288 with 2 Axes>"
      ]
     },
     "metadata": {
      "needs_background": "light"
     },
     "output_type": "display_data"
    },
    {
     "data": {
      "image/png": "[encoded data removed]",
      "text/plain": [
       "<Figure size 432x288 with 2 Axes>"
      ]
     },
     "metadata": {
      "needs_background": "light"
     },
     "output_type": "display_data"
    },
    {
     "data": {
      "text/plain": [
       "<Figure size 432x288 with 0 Axes>"
      ]
     },
     "metadata": {},
     "output_type": "display_data"
    }
   ],
   "source": [
    "plt.hist2d(pred_train, grand_train, bins=100, normed=False, cmap='plasma')\n",
    "\n",
    "# Plot a colorbar with label.\n",
    "cb = plt.colorbar()\n",
    "cb.set_label('Number of entries')\n",
    "\n",
    "# Add title and labels to plot.\n",
    "plt.title('train')\n",
    "plt.xlabel('pred axis')\n",
    "plt.ylabel('true axis')\n",
    "plt.savefig(\"train.png\")\n",
    "plt.figure()\n",
    "\n",
    "\n",
    "plt.hist2d(pred_val, grand_val, bins=100, normed=False, cmap='plasma')\n",
    "\n",
    "# Plot a colorbar with label.\n",
    "cb = plt.colorbar()\n",
    "cb.set_label('Number of entries')\n",
    "\n",
    "# Add title and labels to plot.\n",
    "plt.title('val')\n",
    "plt.xlabel('pred axis')\n",
    "plt.ylabel('true axis')\n",
    "plt.savefig(\"val.png\")\n",
    "plt.figure()\n",
    "\n",
    "plt.hist2d(pred_test, grand_test, bins=100, normed=False, cmap='plasma')\n",
    "\n",
    "# Plot a colorbar with label.\n",
    "cb = plt.colorbar()\n",
    "cb.set_label('Number of entries')\n",
    "\n",
    "# Add title and labels to plot.\n",
    "plt.title('test')\n",
    "plt.xlabel('pred axis')\n",
    "plt.ylabel('true axis')\n",
    "plt.savefig(\"test.png\")\n",
    "plt.figure()"
   ]
  },
  {
   "cell_type": "markdown",
   "metadata": {},
   "source": [
    "## 結果\n",
    "### class全体 average = macro\n",
    "|         |   accuracy   |   precision  |    recall    |      f1      |\n",
    "| ------- | ------------ | ------------ | ------------ | ------------ |\n",
    "|  train  | 0.6516919954 | 0.6436380034 | 0.5910831599 | 0.6067506293 |\n",
    "|   val   | 0.6674038461 | 0.5517315375 | 0.5169484974 | 0.4764812080 |\n",
    "|  test   | 0.6954128440 | 0.6239421412 | 0.6040498228 | 0.5998828050 |\n",
    "\n",
    "### class毎 average = macro\n",
    "#### train\n",
    "|           |   class01    |   class02    |   class03    |   class04    |   class05    |   class06    |   class07    |   class08    |   class09    |   class10    |   class11    |   class12    |\n",
    "| --------- | ------------ | ------------ | ------------ | ------------ | ------------ | ------------ | ------------ | ------------ | ------------ | ------------ | ------------ | ------------ |\n",
    "| precision |   0.3917291  |  0.66431861  |  0.76413431  |  0.63590984  |  0.66540548  |  0.56405319  |  0.69578269  |  0.65899141  |  0.78933892  |  0.57556561  |  0.9316774   |  0.82525913  |\n",
    "|  recall   |  0.61717853  |  0.52151191  |  0.62596273  |  0.6522021   |  0.61484169  |  0.46498016  |  0.60568026  |  0.56645072  |  0.45898755  |  0.42437722  |  0.70679694  |  0.83402811  |\n",
    "|    f1     |  0.47926447  |  0.58431633  |  0.58431633  |  0.64395294  |  0.64395294  |  0.50974741  |  0.6476125   |  0.60922691  |  0.5804519   |  0.4885418   |  0.58096618  |  0.82962045  |\n",
    " \n",
    "#### val\n",
    "\n",
    "|           |   class01    |   class02    |   class03    |   class04    |   class05    |   class06    |   class07    |   class08    |   class09    |   class10    |   class11    |\n",
    "| --------- | ------------ | ------------ | ------------ | ------------ | ------------ | ------------ | ------------ | ------------ | ------------ | ------------ | ------------ |\n",
    "| precision |  0.29240822  |  0.18072289  |  0.          |  0.90378503  |  0.34579439  |  0.71973588  |  0.43628982  |  0.6728972   |  0.67521368  |  0.86695402  |  0.97524579  |\n",
    "|  recall   |  0.61717853  |  0.52151191  |  0.          |  0.86480509  |  0.14015152  |  0.76521061  |  0.94391892  |  0.04551201  |  0.42934783  |  0.48411425  |  0.90516539  |\n",
    "|    f1     |  0.43427185  |  0.21479714  |  0.          |  0.8838655   |  0.19946092  |  0.74177694  |  0.59675352  |  0.08525755  |  0.52491694  |  0.62129325  |  0.93889969  |\n",
    "  \n",
    "\n",
    "#### test\n",
    "\n",
    "|           |   class01    |   class02    |   class03    |   class04    |   class05    |   class06    |   class07    |   class08    |   class09    |   class10    |   class11    |   class12    |\n",
    "| --------- | ------------ | ------------ | ------------ | ------------ | ------------ | ------------ | ------------ | ------------ | ------------ | ------------ | ------------ | ------------ |\n",
    "| precision |  0.32852769  |  0.73695198  |  0.78152949  |  0.86233383  |  0.84044617  |  0.56715616  |  0.31155171  |  0.53914466  |  0.4344916   |  0.40577889  |  0.71441989  |  0.96497363  |\n",
    "|  recall   |  0.53173183  |  0.63652756  |  0.75425319  |  0.83847185  |  0.4509889   |  0.52862627  |  0.68683369  |  0.42411986  |  0.46395985  |  0.34361702  |  0.65978817  |  0.92967968  |\n",
    "|    f1     |  0.40613007  |  0.68306842  |  0.76764912  |  0.85023545  |  0.58699334  |  0.50974741  |  0.54721382  |  0.42866054  |  0.47476462  |  0.44874246  |  0.68601809  |  0.94699792  |\n",
    " \n"
   ]
  },
  {
   "cell_type": "code",
   "execution_count": 54,
   "metadata": {},
   "outputs": [
    {
     "data": {
      "text/html": [
       "<div>\n",
       "<style scoped>\n",
       "    .dataframe tbody tr th:only-of-type {\n",
       "        vertical-align: middle;\n",
       "    }\n",
       "\n",
       "    .dataframe tbody tr th {\n",
       "        vertical-align: top;\n",
       "    }\n",
       "\n",
       "    .dataframe thead th {\n",
       "        text-align: right;\n",
       "    }\n",
       "</style>\n",
       "<table border=\"1\" class=\"dataframe\">\n",
       "  <thead>\n",
       "    <tr style=\"text-align: right;\">\n",
       "      <th></th>\n",
       "      <th>0</th>\n",
       "    </tr>\n",
       "  </thead>\n",
       "  <tbody>\n",
       "    <tr>\n",
       "      <th>1277</th>\n",
       "      <td>8.0</td>\n",
       "    </tr>\n",
       "    <tr>\n",
       "      <th>1278</th>\n",
       "      <td>8.0</td>\n",
       "    </tr>\n",
       "    <tr>\n",
       "      <th>1412</th>\n",
       "      <td>8.0</td>\n",
       "    </tr>\n",
       "    <tr>\n",
       "      <th>1413</th>\n",
       "      <td>8.0</td>\n",
       "    </tr>\n",
       "    <tr>\n",
       "      <th>1414</th>\n",
       "      <td>8.0</td>\n",
       "    </tr>\n",
       "    <tr>\n",
       "      <th>1418</th>\n",
       "      <td>8.0</td>\n",
       "    </tr>\n",
       "    <tr>\n",
       "      <th>1423</th>\n",
       "      <td>8.0</td>\n",
       "    </tr>\n",
       "    <tr>\n",
       "      <th>1424</th>\n",
       "      <td>8.0</td>\n",
       "    </tr>\n",
       "    <tr>\n",
       "      <th>1425</th>\n",
       "      <td>8.0</td>\n",
       "    </tr>\n",
       "    <tr>\n",
       "      <th>1426</th>\n",
       "      <td>8.0</td>\n",
       "    </tr>\n",
       "    <tr>\n",
       "      <th>1427</th>\n",
       "      <td>8.0</td>\n",
       "    </tr>\n",
       "    <tr>\n",
       "      <th>1428</th>\n",
       "      <td>8.0</td>\n",
       "    </tr>\n",
       "    <tr>\n",
       "      <th>1429</th>\n",
       "      <td>8.0</td>\n",
       "    </tr>\n",
       "    <tr>\n",
       "      <th>1430</th>\n",
       "      <td>8.0</td>\n",
       "    </tr>\n",
       "    <tr>\n",
       "      <th>1431</th>\n",
       "      <td>8.0</td>\n",
       "    </tr>\n",
       "    <tr>\n",
       "      <th>1432</th>\n",
       "      <td>8.0</td>\n",
       "    </tr>\n",
       "    <tr>\n",
       "      <th>1433</th>\n",
       "      <td>8.0</td>\n",
       "    </tr>\n",
       "    <tr>\n",
       "      <th>1434</th>\n",
       "      <td>8.0</td>\n",
       "    </tr>\n",
       "    <tr>\n",
       "      <th>1435</th>\n",
       "      <td>8.0</td>\n",
       "    </tr>\n",
       "    <tr>\n",
       "      <th>1436</th>\n",
       "      <td>8.0</td>\n",
       "    </tr>\n",
       "    <tr>\n",
       "      <th>69601</th>\n",
       "      <td>8.0</td>\n",
       "    </tr>\n",
       "    <tr>\n",
       "      <th>69602</th>\n",
       "      <td>8.0</td>\n",
       "    </tr>\n",
       "  </tbody>\n",
       "</table>\n",
       "</div>"
      ],
      "text/plain": [
       "         0\n",
       "1277   8.0\n",
       "1278   8.0\n",
       "1412   8.0\n",
       "1413   8.0\n",
       "1414   8.0\n",
       "1418   8.0\n",
       "1423   8.0\n",
       "1424   8.0\n",
       "1425   8.0\n",
       "1426   8.0\n",
       "1427   8.0\n",
       "1428   8.0\n",
       "1429   8.0\n",
       "1430   8.0\n",
       "1431   8.0\n",
       "1432   8.0\n",
       "1433   8.0\n",
       "1434   8.0\n",
       "1435   8.0\n",
       "1436   8.0\n",
       "69601  8.0\n",
       "69602  8.0"
      ]
     },
     "execution_count": 54,
     "metadata": {},
     "output_type": "execute_result"
    }
   ],
   "source": [
    "df_pred[df_pred[0] == 8]"
   ]
  },
  {
   "cell_type": "code",
   "execution_count": 53,
   "metadata": {},
   "outputs": [
    {
     "data": {
      "text/html": [
       "<div>\n",
       "<style scoped>\n",
       "    .dataframe tbody tr th:only-of-type {\n",
       "        vertical-align: middle;\n",
       "    }\n",
       "\n",
       "    .dataframe tbody tr th {\n",
       "        vertical-align: top;\n",
       "    }\n",
       "\n",
       "    .dataframe thead th {\n",
       "        text-align: right;\n",
       "    }\n",
       "</style>\n",
       "<table border=\"1\" class=\"dataframe\">\n",
       "  <thead>\n",
       "    <tr style=\"text-align: right;\">\n",
       "      <th></th>\n",
       "      <th>0</th>\n",
       "    </tr>\n",
       "  </thead>\n",
       "  <tbody>\n",
       "    <tr>\n",
       "      <th>5556</th>\n",
       "      <td>8.0</td>\n",
       "    </tr>\n",
       "    <tr>\n",
       "      <th>5557</th>\n",
       "      <td>8.0</td>\n",
       "    </tr>\n",
       "    <tr>\n",
       "      <th>5558</th>\n",
       "      <td>8.0</td>\n",
       "    </tr>\n",
       "    <tr>\n",
       "      <th>5559</th>\n",
       "      <td>8.0</td>\n",
       "    </tr>\n",
       "    <tr>\n",
       "      <th>5560</th>\n",
       "      <td>8.0</td>\n",
       "    </tr>\n",
       "    <tr>\n",
       "      <th>...</th>\n",
       "      <td>...</td>\n",
       "    </tr>\n",
       "    <tr>\n",
       "      <th>46613</th>\n",
       "      <td>8.0</td>\n",
       "    </tr>\n",
       "    <tr>\n",
       "      <th>46614</th>\n",
       "      <td>8.0</td>\n",
       "    </tr>\n",
       "    <tr>\n",
       "      <th>46615</th>\n",
       "      <td>8.0</td>\n",
       "    </tr>\n",
       "    <tr>\n",
       "      <th>46616</th>\n",
       "      <td>8.0</td>\n",
       "    </tr>\n",
       "    <tr>\n",
       "      <th>46617</th>\n",
       "      <td>8.0</td>\n",
       "    </tr>\n",
       "  </tbody>\n",
       "</table>\n",
       "<p>88 rows × 1 columns</p>\n",
       "</div>"
      ],
      "text/plain": [
       "         0\n",
       "5556   8.0\n",
       "5557   8.0\n",
       "5558   8.0\n",
       "5559   8.0\n",
       "5560   8.0\n",
       "...    ...\n",
       "46613  8.0\n",
       "46614  8.0\n",
       "46615  8.0\n",
       "46616  8.0\n",
       "46617  8.0\n",
       "\n",
       "[88 rows x 1 columns]"
      ]
     },
     "execution_count": 53,
     "metadata": {},
     "output_type": "execute_result"
    }
   ],
   "source": [
    "df_grand[df_grand[0] == 8]"
   ]
  },
  {
   "cell_type": "code",
   "execution_count": 77,
   "metadata": {},
   "outputs": [
    {
     "data": {
      "text/html": [
       "<div>\n",
       "<style scoped>\n",
       "    .dataframe tbody tr th:only-of-type {\n",
       "        vertical-align: middle;\n",
       "    }\n",
       "\n",
       "    .dataframe tbody tr th {\n",
       "        vertical-align: top;\n",
       "    }\n",
       "\n",
       "    .dataframe thead th {\n",
       "        text-align: right;\n",
       "    }\n",
       "</style>\n",
       "<table border=\"1\" class=\"dataframe\">\n",
       "  <thead>\n",
       "    <tr style=\"text-align: right;\">\n",
       "      <th></th>\n",
       "      <th>0</th>\n",
       "    </tr>\n",
       "  </thead>\n",
       "  <tbody>\n",
       "    <tr>\n",
       "      <th>0</th>\n",
       "      <td>3.0</td>\n",
       "    </tr>\n",
       "    <tr>\n",
       "      <th>1</th>\n",
       "      <td>3.0</td>\n",
       "    </tr>\n",
       "    <tr>\n",
       "      <th>2</th>\n",
       "      <td>3.0</td>\n",
       "    </tr>\n",
       "    <tr>\n",
       "      <th>3</th>\n",
       "      <td>3.0</td>\n",
       "    </tr>\n",
       "    <tr>\n",
       "      <th>4</th>\n",
       "      <td>3.0</td>\n",
       "    </tr>\n",
       "  </tbody>\n",
       "</table>\n",
       "</div>"
      ],
      "text/plain": [
       "     0\n",
       "0  3.0\n",
       "1  3.0\n",
       "2  3.0\n",
       "3  3.0\n",
       "4  3.0"
      ]
     },
     "execution_count": 77,
     "metadata": {},
     "output_type": "execute_result"
    }
   ],
   "source": [
    "df_grand.head()"
   ]
  },
  {
   "cell_type": "code",
   "execution_count": 20,
   "metadata": {},
   "outputs": [],
   "source": [
    "df_pred = pd.DataFrame(pred_test)\n",
    "df_grand = pd.DataFrame(grand_test)"
   ]
  },
  {
   "cell_type": "code",
   "execution_count": 21,
   "metadata": {},
   "outputs": [
    {
     "data": {
      "text/plain": [
       "array([[<matplotlib.axes._subplots.AxesSubplot object at 0x7f81931d5278>]],\n",
       "      dtype=object)"
      ]
     },
     "execution_count": 21,
     "metadata": {},
     "output_type": "execute_result"
    },
    {
     "data": {
      "image/png": "[encoded data removed]",
      "text/plain": [
       "<Figure size 432x288 with 1 Axes>"
      ]
     },
     "metadata": {
      "needs_background": "light"
     },
     "output_type": "display_data"
    }
   ],
   "source": [
    "df_pred.hist()"
   ]
  },
  {
   "cell_type": "code",
   "execution_count": 22,
   "metadata": {},
   "outputs": [
    {
     "data": {
      "text/plain": [
       "array([[<matplotlib.axes._subplots.AxesSubplot object at 0x7f8193446cc0>]],\n",
       "      dtype=object)"
      ]
     },
     "execution_count": 22,
     "metadata": {},
     "output_type": "execute_result"
    },
    {
     "data": {
      "image/png": "[encoded data removed]",
      "text/plain": [
       "<Figure size 432x288 with 1 Axes>"
      ]
     },
     "metadata": {
      "needs_background": "light"
     },
     "output_type": "display_data"
    }
   ],
   "source": [
    "df_grand.hist()"
   ]
  },
  {
   "cell_type": "markdown",
   "metadata": {},
   "source": [
    "#### "
   ]
  }
 ],
 "metadata": {
  "kernelspec": {
   "display_name": "Python 3",
   "language": "python",
   "name": "python3"
  },
  "language_info": {
   "codemirror_mode": {
    "name": "ipython",
    "version": 3
   },
   "file_extension": ".py",
   "mimetype": "text/x-python",
   "name": "python",
   "nbconvert_exporter": "python",
   "pygments_lexer": "ipython3",
   "version": "3.6.9"
  }
 },
 "nbformat": 4,
 "nbformat_minor": 4
}
